{
 "cells": [
  {
   "cell_type": "code",
   "execution_count": 2,
   "metadata": {},
   "outputs": [],
   "source": [
    "import seaborn as sns\n",
    "import pandas as pd\n",
    "import numpy as np\n",
    "import matplotlib.pyplot as plt"
   ]
  },
  {
   "cell_type": "markdown",
   "metadata": {},
   "source": [
    "# Reading last cleaned data"
   ]
  },
  {
   "cell_type": "code",
   "execution_count": 4,
   "metadata": {},
   "outputs": [],
   "source": [
    "fn1 = pd.read_csv('linkedin_basic_profile_cleaned.csv', header= 0)\n",
    "fn2 = pd.read_csv('linkedin_profile_education_cleaned.csv', header= 0)\n",
    "fn3 = pd.read_csv('linkedin_profile_experience_cleaned.csv', header= 0)\n",
    "fn4 = pd.read_csv('linkedin_profile_experience_position_cleaned.csv', header= 0)"
   ]
  },
  {
   "cell_type": "code",
   "execution_count": 10,
   "metadata": {},
   "outputs": [],
   "source": [
    "test = fn2[fn2.education_degree_title.str.contains('Industrial', regex= True, na=False)]"
   ]
  },
  {
   "cell_type": "code",
   "execution_count": 11,
   "metadata": {},
   "outputs": [
    {
     "data": {
      "text/html": [
       "<div>\n",
       "<style scoped>\n",
       "    .dataframe tbody tr th:only-of-type {\n",
       "        vertical-align: middle;\n",
       "    }\n",
       "\n",
       "    .dataframe tbody tr th {\n",
       "        vertical-align: top;\n",
       "    }\n",
       "\n",
       "    .dataframe thead th {\n",
       "        text-align: right;\n",
       "    }\n",
       "</style>\n",
       "<table border=\"1\" class=\"dataframe\">\n",
       "  <thead>\n",
       "    <tr style=\"text-align: right;\">\n",
       "      <th></th>\n",
       "      <th>profile_id</th>\n",
       "      <th>name</th>\n",
       "      <th>linkedin_url</th>\n",
       "      <th>location</th>\n",
       "      <th>location_country</th>\n",
       "      <th>headline</th>\n",
       "      <th>about</th>\n",
       "      <th>connections</th>\n",
       "      <th>patents</th>\n",
       "      <th>projects</th>\n",
       "      <th>awards</th>\n",
       "      <th>groups</th>\n",
       "      <th>volunteering</th>\n",
       "      <th>certifications</th>\n",
       "      <th>IsLocatedInGermany</th>\n",
       "    </tr>\n",
       "  </thead>\n",
       "  <tbody>\n",
       "    <tr>\n",
       "      <th>16</th>\n",
       "      <td>fe3cab0a-733e-4c2c-b503-16ceaec71467</td>\n",
       "      <td>Runa Roßkamp</td>\n",
       "      <td>https://www.linkedin.com/in/runa-ro%C3%9Fkamp/</td>\n",
       "      <td>Kamp-Lintfort, North Rhine-Westphalia, Germany</td>\n",
       "      <td>Germany</td>\n",
       "      <td>Internship at Daimler AG</td>\n",
       "      <td>- Old ways won't open new doors -   Currently ...</td>\n",
       "      <td>200</td>\n",
       "      <td>0</td>\n",
       "      <td>0</td>\n",
       "      <td>0</td>\n",
       "      <td>0</td>\n",
       "      <td>2</td>\n",
       "      <td>1</td>\n",
       "      <td>Yes</td>\n",
       "    </tr>\n",
       "    <tr>\n",
       "      <th>187</th>\n",
       "      <td>f9c4f8be-70f7-4a55-b095-c20f9ca5512b</td>\n",
       "      <td>Oliver Wersig</td>\n",
       "      <td>https://www.linkedin.com/in/oliver-wersig-1612...</td>\n",
       "      <td>Krefeld, North Rhine-Westphalia, Germany</td>\n",
       "      <td>Germany</td>\n",
       "      <td>Mobility &amp; Logistics student</td>\n",
       "      <td>Looking for a cosmopolitan and modern employer.</td>\n",
       "      <td>56</td>\n",
       "      <td>0</td>\n",
       "      <td>0</td>\n",
       "      <td>0</td>\n",
       "      <td>1</td>\n",
       "      <td>0</td>\n",
       "      <td>0</td>\n",
       "      <td>Yes</td>\n",
       "    </tr>\n",
       "    <tr>\n",
       "      <th>197</th>\n",
       "      <td>eb14cc83-07d7-4081-891a-187521343c67</td>\n",
       "      <td>Diego Castro</td>\n",
       "      <td>https://www.linkedin.com/in/esblitz/</td>\n",
       "      <td>Cologne Area, Germany</td>\n",
       "      <td>Germany</td>\n",
       "      <td>Graphic Designer at Ubisoft Blue Byte GmbH</td>\n",
       "      <td>NaN</td>\n",
       "      <td>131</td>\n",
       "      <td>0</td>\n",
       "      <td>0</td>\n",
       "      <td>0</td>\n",
       "      <td>0</td>\n",
       "      <td>2</td>\n",
       "      <td>0</td>\n",
       "      <td>Yes</td>\n",
       "    </tr>\n",
       "    <tr>\n",
       "      <th>219</th>\n",
       "      <td>0e28227d-4dfb-4827-bc7e-96cb34dada68</td>\n",
       "      <td>Henrik Mucha</td>\n",
       "      <td>https://www.linkedin.com/in/henrikmucha/</td>\n",
       "      <td>Cologne Area, Germany</td>\n",
       "      <td>Germany</td>\n",
       "      <td>Research assistant at Fraunhofer IOSB</td>\n",
       "      <td>NaN</td>\n",
       "      <td>102</td>\n",
       "      <td>0</td>\n",
       "      <td>0</td>\n",
       "      <td>0</td>\n",
       "      <td>0</td>\n",
       "      <td>0</td>\n",
       "      <td>0</td>\n",
       "      <td>Yes</td>\n",
       "    </tr>\n",
       "    <tr>\n",
       "      <th>288</th>\n",
       "      <td>c43d551f-3c83-49f2-9e5c-b70c7d5072e1</td>\n",
       "      <td>Javier Skorupski</td>\n",
       "      <td>https://www.linkedin.com/in/javierskorupski/</td>\n",
       "      <td>Heidelberg, Baden-Württemberg, Germany</td>\n",
       "      <td>Germany</td>\n",
       "      <td>User Experience Design and Unity 3d C# develop...</td>\n",
       "      <td>I am a UX designer, Usability Engineer and jun...</td>\n",
       "      <td>500+</td>\n",
       "      <td>0</td>\n",
       "      <td>1</td>\n",
       "      <td>2</td>\n",
       "      <td>0</td>\n",
       "      <td>0</td>\n",
       "      <td>0</td>\n",
       "      <td>Yes</td>\n",
       "    </tr>\n",
       "    <tr>\n",
       "      <th>380</th>\n",
       "      <td>1737983d-d3b3-4142-9647-9d191bf96fa1</td>\n",
       "      <td>Aditya Anil</td>\n",
       "      <td>https://www.linkedin.com/in/aditya-anil-396571...</td>\n",
       "      <td>Cologne Area, Germany</td>\n",
       "      <td>Germany</td>\n",
       "      <td>Student at Rhine-Waal University</td>\n",
       "      <td>NaN</td>\n",
       "      <td>115</td>\n",
       "      <td>0</td>\n",
       "      <td>0</td>\n",
       "      <td>0</td>\n",
       "      <td>0</td>\n",
       "      <td>0</td>\n",
       "      <td>0</td>\n",
       "      <td>Yes</td>\n",
       "    </tr>\n",
       "    <tr>\n",
       "      <th>606</th>\n",
       "      <td>92bba59a-c576-431e-971d-9bb2e09325f2</td>\n",
       "      <td>Marie-Claire Moreno Rabe</td>\n",
       "      <td>https://www.linkedin.com/in/mrclrmrn/</td>\n",
       "      <td>Düsseldorf, North Rhine-Westphalia, Germany</td>\n",
       "      <td>Germany</td>\n",
       "      <td>Bachelor's Thesis Strategic Marketing at Vodafone</td>\n",
       "      <td>NaN</td>\n",
       "      <td>194</td>\n",
       "      <td>0</td>\n",
       "      <td>0</td>\n",
       "      <td>0</td>\n",
       "      <td>1</td>\n",
       "      <td>1</td>\n",
       "      <td>0</td>\n",
       "      <td>Yes</td>\n",
       "    </tr>\n",
       "    <tr>\n",
       "      <th>611</th>\n",
       "      <td>60620350-666e-4a3a-8a31-c707721b7518</td>\n",
       "      <td>Simon Boffen</td>\n",
       "      <td>https://www.linkedin.com/in/simonboffen/</td>\n",
       "      <td>Cologne, North Rhine-Westphalia, Germany</td>\n",
       "      <td>Germany</td>\n",
       "      <td>Detecon International GmbH</td>\n",
       "      <td>NaN</td>\n",
       "      <td>500+</td>\n",
       "      <td>0</td>\n",
       "      <td>5</td>\n",
       "      <td>1</td>\n",
       "      <td>14</td>\n",
       "      <td>2</td>\n",
       "      <td>1</td>\n",
       "      <td>Yes</td>\n",
       "    </tr>\n",
       "    <tr>\n",
       "      <th>844</th>\n",
       "      <td>7e18c08c-66e4-429f-961c-09e1f95f86c4</td>\n",
       "      <td>Syed Umar Ali</td>\n",
       "      <td>https://www.linkedin.com/in/syed-umar-ali-3171...</td>\n",
       "      <td>Haltern Am See, North Rhine-Westphalia, Germany</td>\n",
       "      <td>Germany</td>\n",
       "      <td>Manager Admin &amp; Finance</td>\n",
       "      <td>NaN</td>\n",
       "      <td>77</td>\n",
       "      <td>0</td>\n",
       "      <td>2</td>\n",
       "      <td>0</td>\n",
       "      <td>0</td>\n",
       "      <td>0</td>\n",
       "      <td>0</td>\n",
       "      <td>Yes</td>\n",
       "    </tr>\n",
       "    <tr>\n",
       "      <th>937</th>\n",
       "      <td>3f9e21ed-5dd9-4c9c-8dce-ffd6a815985f</td>\n",
       "      <td>View Gökçe's Full Profile</td>\n",
       "      <td>https://www.linkedin.com/in/g%C3%B6k%C3%A7e-g%...</td>\n",
       "      <td>Turkey</td>\n",
       "      <td>Turkey</td>\n",
       "      <td>Financial Analysis Specialist at Hanon System</td>\n",
       "      <td>NaN</td>\n",
       "      <td>144</td>\n",
       "      <td>0</td>\n",
       "      <td>0</td>\n",
       "      <td>0</td>\n",
       "      <td>14</td>\n",
       "      <td>0</td>\n",
       "      <td>0</td>\n",
       "      <td>No</td>\n",
       "    </tr>\n",
       "    <tr>\n",
       "      <th>939</th>\n",
       "      <td>5d80d505-3e9d-4217-9bdc-7d29a40fa0b0</td>\n",
       "      <td>Sergio Gary Luna Anaya</td>\n",
       "      <td>https://www.linkedin.com/in/sergio-gary-luna-a...</td>\n",
       "      <td>Guadalajara Area, Mexico</td>\n",
       "      <td>Mexico</td>\n",
       "      <td>Industrial Engineering</td>\n",
       "      <td>NaN</td>\n",
       "      <td>25</td>\n",
       "      <td>0</td>\n",
       "      <td>0</td>\n",
       "      <td>0</td>\n",
       "      <td>0</td>\n",
       "      <td>0</td>\n",
       "      <td>0</td>\n",
       "      <td>No</td>\n",
       "    </tr>\n",
       "    <tr>\n",
       "      <th>965</th>\n",
       "      <td>bde21c84-ca17-48e0-8f0b-4c784452b10c</td>\n",
       "      <td>Katharina Koch</td>\n",
       "      <td>https://www.linkedin.com/in/katharina-koch/</td>\n",
       "      <td>Cologne, North Rhine-Westphalia, Germany</td>\n",
       "      <td>Germany</td>\n",
       "      <td>Strategic Quality Manager at Steinhaus GmbH</td>\n",
       "      <td>NaN</td>\n",
       "      <td>171</td>\n",
       "      <td>0</td>\n",
       "      <td>0</td>\n",
       "      <td>0</td>\n",
       "      <td>5</td>\n",
       "      <td>1</td>\n",
       "      <td>2</td>\n",
       "      <td>Yes</td>\n",
       "    </tr>\n",
       "    <tr>\n",
       "      <th>982</th>\n",
       "      <td>b2b65a03-d681-4c6d-b1cf-44ab8299eb2d</td>\n",
       "      <td>Franziska Rahlf</td>\n",
       "      <td>https://www.linkedin.com/in/franziska-rahlf-74...</td>\n",
       "      <td>Hannover Area, Germany</td>\n",
       "      <td>Germany</td>\n",
       "      <td>Work and organizational psychology (B.Sc.) HR ...</td>\n",
       "      <td>NaN</td>\n",
       "      <td>116</td>\n",
       "      <td>0</td>\n",
       "      <td>0</td>\n",
       "      <td>0</td>\n",
       "      <td>0</td>\n",
       "      <td>0</td>\n",
       "      <td>1</td>\n",
       "      <td>Yes</td>\n",
       "    </tr>\n",
       "    <tr>\n",
       "      <th>1135</th>\n",
       "      <td>6b3c68b6-b8ba-4562-9097-8ed6e4d83e6c</td>\n",
       "      <td>Sena Mariak</td>\n",
       "      <td>https://www.linkedin.com/in/senamariak/</td>\n",
       "      <td>Berlin, Berlin, Germany</td>\n",
       "      <td>Germany</td>\n",
       "      <td>Business Intelligence and Data Integration Con...</td>\n",
       "      <td>My motto is : What have I learned today?</td>\n",
       "      <td>252</td>\n",
       "      <td>0</td>\n",
       "      <td>1</td>\n",
       "      <td>0</td>\n",
       "      <td>0</td>\n",
       "      <td>2</td>\n",
       "      <td>0</td>\n",
       "      <td>Yes</td>\n",
       "    </tr>\n",
       "    <tr>\n",
       "      <th>1364</th>\n",
       "      <td>7b3fa9e8-c7a3-4c0c-ab12-2618faa68a4f</td>\n",
       "      <td>Rafael Hashmi</td>\n",
       "      <td>https://www.linkedin.com/in/rafael-hashmi-56a2...</td>\n",
       "      <td>Cologne Area, Germany</td>\n",
       "      <td>Germany</td>\n",
       "      <td>Senior Global Product Solutions Specialist at ...</td>\n",
       "      <td>Experienced Account Executive with a demonstra...</td>\n",
       "      <td>332</td>\n",
       "      <td>0</td>\n",
       "      <td>0</td>\n",
       "      <td>0</td>\n",
       "      <td>0</td>\n",
       "      <td>0</td>\n",
       "      <td>0</td>\n",
       "      <td>Yes</td>\n",
       "    </tr>\n",
       "    <tr>\n",
       "      <th>1373</th>\n",
       "      <td>1faa2a55-312a-4af2-ab96-9f2ec18087a5</td>\n",
       "      <td>Dunya Demirli</td>\n",
       "      <td>https://www.linkedin.com/in/dunya-demirli/</td>\n",
       "      <td>Berlin Area, Germany</td>\n",
       "      <td>Germany</td>\n",
       "      <td>Junior Content and Social Media Manager at Hel...</td>\n",
       "      <td>NaN</td>\n",
       "      <td>260</td>\n",
       "      <td>0</td>\n",
       "      <td>0</td>\n",
       "      <td>0</td>\n",
       "      <td>1</td>\n",
       "      <td>1</td>\n",
       "      <td>0</td>\n",
       "      <td>Yes</td>\n",
       "    </tr>\n",
       "    <tr>\n",
       "      <th>1490</th>\n",
       "      <td>8c2114ce-bdbd-4e83-9ea1-cd6aaa2d3215</td>\n",
       "      <td>Abdelrahman Ibrahim</td>\n",
       "      <td>https://www.linkedin.com/in/abdelrahman-ibrahi...</td>\n",
       "      <td>Kleve, North Rhine-Westphalia, Germany</td>\n",
       "      <td>Germany</td>\n",
       "      <td>Mechanical engineering graduate, Rhein-Waal Un...</td>\n",
       "      <td>NaN</td>\n",
       "      <td>114</td>\n",
       "      <td>0</td>\n",
       "      <td>0</td>\n",
       "      <td>0</td>\n",
       "      <td>0</td>\n",
       "      <td>1</td>\n",
       "      <td>2</td>\n",
       "      <td>Yes</td>\n",
       "    </tr>\n",
       "    <tr>\n",
       "      <th>1797</th>\n",
       "      <td>5963e2de-3e68-4a02-a6ca-048229f9a313</td>\n",
       "      <td>Jesus Egea Marín</td>\n",
       "      <td>https://www.linkedin.com/in/egeamarin/</td>\n",
       "      <td>San Sebastian De Los Reyes, Madrid, Spain</td>\n",
       "      <td>Spain</td>\n",
       "      <td>IT Project Analyst (.NET)</td>\n",
       "      <td>Currently, analyst - programmer (.NET) in the ...</td>\n",
       "      <td>172</td>\n",
       "      <td>0</td>\n",
       "      <td>4</td>\n",
       "      <td>0</td>\n",
       "      <td>1</td>\n",
       "      <td>0</td>\n",
       "      <td>2</td>\n",
       "      <td>No</td>\n",
       "    </tr>\n",
       "    <tr>\n",
       "      <th>1819</th>\n",
       "      <td>fb4ce88e-2e30-4abc-a668-af6178005262</td>\n",
       "      <td>Daniela Garcia</td>\n",
       "      <td>https://www.linkedin.com/in/daniela-garc%C3%AD...</td>\n",
       "      <td>Mexico City Area, Mexico</td>\n",
       "      <td>Mexico</td>\n",
       "      <td>Professional Insurance Advisor at GNP Seguros</td>\n",
       "      <td>Understand the business needs in order to deli...</td>\n",
       "      <td>330</td>\n",
       "      <td>0</td>\n",
       "      <td>0</td>\n",
       "      <td>0</td>\n",
       "      <td>0</td>\n",
       "      <td>0</td>\n",
       "      <td>0</td>\n",
       "      <td>No</td>\n",
       "    </tr>\n",
       "  </tbody>\n",
       "</table>\n",
       "</div>"
      ],
      "text/plain": [
       "                                profile_id                       name  \\\n",
       "16    fe3cab0a-733e-4c2c-b503-16ceaec71467               Runa Roßkamp   \n",
       "187   f9c4f8be-70f7-4a55-b095-c20f9ca5512b              Oliver Wersig   \n",
       "197   eb14cc83-07d7-4081-891a-187521343c67               Diego Castro   \n",
       "219   0e28227d-4dfb-4827-bc7e-96cb34dada68               Henrik Mucha   \n",
       "288   c43d551f-3c83-49f2-9e5c-b70c7d5072e1           Javier Skorupski   \n",
       "380   1737983d-d3b3-4142-9647-9d191bf96fa1                Aditya Anil   \n",
       "606   92bba59a-c576-431e-971d-9bb2e09325f2   Marie-Claire Moreno Rabe   \n",
       "611   60620350-666e-4a3a-8a31-c707721b7518               Simon Boffen   \n",
       "844   7e18c08c-66e4-429f-961c-09e1f95f86c4              Syed Umar Ali   \n",
       "937   3f9e21ed-5dd9-4c9c-8dce-ffd6a815985f  View Gökçe's Full Profile   \n",
       "939   5d80d505-3e9d-4217-9bdc-7d29a40fa0b0     Sergio Gary Luna Anaya   \n",
       "965   bde21c84-ca17-48e0-8f0b-4c784452b10c             Katharina Koch   \n",
       "982   b2b65a03-d681-4c6d-b1cf-44ab8299eb2d            Franziska Rahlf   \n",
       "1135  6b3c68b6-b8ba-4562-9097-8ed6e4d83e6c                Sena Mariak   \n",
       "1364  7b3fa9e8-c7a3-4c0c-ab12-2618faa68a4f              Rafael Hashmi   \n",
       "1373  1faa2a55-312a-4af2-ab96-9f2ec18087a5              Dunya Demirli   \n",
       "1490  8c2114ce-bdbd-4e83-9ea1-cd6aaa2d3215        Abdelrahman Ibrahim   \n",
       "1797  5963e2de-3e68-4a02-a6ca-048229f9a313           Jesus Egea Marín   \n",
       "1819  fb4ce88e-2e30-4abc-a668-af6178005262             Daniela Garcia   \n",
       "\n",
       "                                           linkedin_url  \\\n",
       "16       https://www.linkedin.com/in/runa-ro%C3%9Fkamp/   \n",
       "187   https://www.linkedin.com/in/oliver-wersig-1612...   \n",
       "197                https://www.linkedin.com/in/esblitz/   \n",
       "219            https://www.linkedin.com/in/henrikmucha/   \n",
       "288        https://www.linkedin.com/in/javierskorupski/   \n",
       "380   https://www.linkedin.com/in/aditya-anil-396571...   \n",
       "606               https://www.linkedin.com/in/mrclrmrn/   \n",
       "611            https://www.linkedin.com/in/simonboffen/   \n",
       "844   https://www.linkedin.com/in/syed-umar-ali-3171...   \n",
       "937   https://www.linkedin.com/in/g%C3%B6k%C3%A7e-g%...   \n",
       "939   https://www.linkedin.com/in/sergio-gary-luna-a...   \n",
       "965         https://www.linkedin.com/in/katharina-koch/   \n",
       "982   https://www.linkedin.com/in/franziska-rahlf-74...   \n",
       "1135            https://www.linkedin.com/in/senamariak/   \n",
       "1364  https://www.linkedin.com/in/rafael-hashmi-56a2...   \n",
       "1373         https://www.linkedin.com/in/dunya-demirli/   \n",
       "1490  https://www.linkedin.com/in/abdelrahman-ibrahi...   \n",
       "1797             https://www.linkedin.com/in/egeamarin/   \n",
       "1819  https://www.linkedin.com/in/daniela-garc%C3%AD...   \n",
       "\n",
       "                                             location location_country  \\\n",
       "16     Kamp-Lintfort, North Rhine-Westphalia, Germany          Germany   \n",
       "187          Krefeld, North Rhine-Westphalia, Germany          Germany   \n",
       "197                             Cologne Area, Germany          Germany   \n",
       "219                             Cologne Area, Germany          Germany   \n",
       "288            Heidelberg, Baden-Württemberg, Germany          Germany   \n",
       "380                             Cologne Area, Germany          Germany   \n",
       "606       Düsseldorf, North Rhine-Westphalia, Germany          Germany   \n",
       "611          Cologne, North Rhine-Westphalia, Germany          Germany   \n",
       "844   Haltern Am See, North Rhine-Westphalia, Germany          Germany   \n",
       "937                                            Turkey           Turkey   \n",
       "939                          Guadalajara Area, Mexico           Mexico   \n",
       "965          Cologne, North Rhine-Westphalia, Germany          Germany   \n",
       "982                            Hannover Area, Germany          Germany   \n",
       "1135                          Berlin, Berlin, Germany          Germany   \n",
       "1364                            Cologne Area, Germany          Germany   \n",
       "1373                             Berlin Area, Germany          Germany   \n",
       "1490           Kleve, North Rhine-Westphalia, Germany          Germany   \n",
       "1797        San Sebastian De Los Reyes, Madrid, Spain            Spain   \n",
       "1819                         Mexico City Area, Mexico           Mexico   \n",
       "\n",
       "                                               headline  \\\n",
       "16                             Internship at Daimler AG   \n",
       "187                        Mobility & Logistics student   \n",
       "197          Graphic Designer at Ubisoft Blue Byte GmbH   \n",
       "219               Research assistant at Fraunhofer IOSB   \n",
       "288   User Experience Design and Unity 3d C# develop...   \n",
       "380                    Student at Rhine-Waal University   \n",
       "606   Bachelor's Thesis Strategic Marketing at Vodafone   \n",
       "611                          Detecon International GmbH   \n",
       "844                             Manager Admin & Finance   \n",
       "937       Financial Analysis Specialist at Hanon System   \n",
       "939                              Industrial Engineering   \n",
       "965         Strategic Quality Manager at Steinhaus GmbH   \n",
       "982   Work and organizational psychology (B.Sc.) HR ...   \n",
       "1135  Business Intelligence and Data Integration Con...   \n",
       "1364  Senior Global Product Solutions Specialist at ...   \n",
       "1373  Junior Content and Social Media Manager at Hel...   \n",
       "1490  Mechanical engineering graduate, Rhein-Waal Un...   \n",
       "1797                          IT Project Analyst (.NET)   \n",
       "1819      Professional Insurance Advisor at GNP Seguros   \n",
       "\n",
       "                                                  about connections patents  \\\n",
       "16    - Old ways won't open new doors -   Currently ...         200       0   \n",
       "187     Looking for a cosmopolitan and modern employer.          56       0   \n",
       "197                                                 NaN         131       0   \n",
       "219                                                 NaN         102       0   \n",
       "288   I am a UX designer, Usability Engineer and jun...        500+       0   \n",
       "380                                                 NaN         115       0   \n",
       "606                                                 NaN         194       0   \n",
       "611                                                 NaN        500+       0   \n",
       "844                                                 NaN          77       0   \n",
       "937                                                 NaN         144       0   \n",
       "939                                                 NaN          25       0   \n",
       "965                                                 NaN         171       0   \n",
       "982                                                 NaN         116       0   \n",
       "1135           My motto is : What have I learned today?         252       0   \n",
       "1364  Experienced Account Executive with a demonstra...         332       0   \n",
       "1373                                                NaN         260       0   \n",
       "1490                                                NaN         114       0   \n",
       "1797  Currently, analyst - programmer (.NET) in the ...         172       0   \n",
       "1819  Understand the business needs in order to deli...         330       0   \n",
       "\n",
       "      projects  awards  groups  volunteering certifications IsLocatedInGermany  \n",
       "16           0       0       0             2              1                Yes  \n",
       "187          0       0       1             0              0                Yes  \n",
       "197          0       0       0             2              0                Yes  \n",
       "219          0       0       0             0              0                Yes  \n",
       "288          1       2       0             0              0                Yes  \n",
       "380          0       0       0             0              0                Yes  \n",
       "606          0       0       1             1              0                Yes  \n",
       "611          5       1      14             2              1                Yes  \n",
       "844          2       0       0             0              0                Yes  \n",
       "937          0       0      14             0              0                 No  \n",
       "939          0       0       0             0              0                 No  \n",
       "965          0       0       5             1              2                Yes  \n",
       "982          0       0       0             0              1                Yes  \n",
       "1135         1       0       0             2              0                Yes  \n",
       "1364         0       0       0             0              0                Yes  \n",
       "1373         0       0       1             1              0                Yes  \n",
       "1490         0       0       0             1              2                Yes  \n",
       "1797         4       0       1             0              2                 No  \n",
       "1819         0       0       0             0              0                 No  "
      ]
     },
     "execution_count": 11,
     "metadata": {},
     "output_type": "execute_result"
    }
   ],
   "source": [
    "fn1[fn1.profile_id.isin(test.profile_id)]"
   ]
  },
  {
   "cell_type": "markdown",
   "metadata": {},
   "source": [
    "# Getting profile_id who has or had education at Rhein-Waal University"
   ]
  },
  {
   "cell_type": "code",
   "execution_count": 11,
   "metadata": {},
   "outputs": [
    {
     "ename": "NameError",
     "evalue": "name 'fn2' is not defined",
     "output_type": "error",
     "traceback": [
      "\u001b[0;31m--------------------------------------------------------------------\u001b[0m",
      "\u001b[0;31mNameError\u001b[0m                          Traceback (most recent call last)",
      "\u001b[0;32m<ipython-input-11-35d1242c12c3>\u001b[0m in \u001b[0;36m<module>\u001b[0;34m\u001b[0m\n\u001b[0;32m----> 1\u001b[0;31m \u001b[0mRW_rows\u001b[0m \u001b[0;34m=\u001b[0m \u001b[0mfn2\u001b[0m\u001b[0;34m[\u001b[0m\u001b[0mfn2\u001b[0m\u001b[0;34m.\u001b[0m\u001b[0meducation_title\u001b[0m\u001b[0;34m.\u001b[0m\u001b[0mstr\u001b[0m\u001b[0;34m.\u001b[0m\u001b[0mcontains\u001b[0m\u001b[0;34m(\u001b[0m\u001b[0;34m'Waal'\u001b[0m\u001b[0;34m,\u001b[0m \u001b[0mregex\u001b[0m\u001b[0;34m=\u001b[0m \u001b[0;32mTrue\u001b[0m\u001b[0;34m,\u001b[0m \u001b[0mna\u001b[0m\u001b[0;34m=\u001b[0m\u001b[0;32mFalse\u001b[0m\u001b[0;34m)\u001b[0m\u001b[0;34m]\u001b[0m\u001b[0;34m\u001b[0m\u001b[0;34m\u001b[0m\u001b[0m\n\u001b[0m\u001b[1;32m      2\u001b[0m \u001b[0mnot_RW_rows\u001b[0m \u001b[0;34m=\u001b[0m \u001b[0mfn2\u001b[0m\u001b[0;34m[\u001b[0m\u001b[0;34m~\u001b[0m\u001b[0mfn2\u001b[0m\u001b[0;34m.\u001b[0m\u001b[0mindex\u001b[0m\u001b[0;34m.\u001b[0m\u001b[0misin\u001b[0m\u001b[0;34m(\u001b[0m\u001b[0mRW_rows\u001b[0m\u001b[0;34m.\u001b[0m\u001b[0mindex\u001b[0m\u001b[0;34m)\u001b[0m\u001b[0;34m]\u001b[0m\u001b[0;34m\u001b[0m\u001b[0;34m\u001b[0m\u001b[0m\n\u001b[1;32m      3\u001b[0m \u001b[0;31m#not_RW_people = fn2[~fn2.education_title.str.contains('Waal', regex= True, na=False)]\u001b[0m\u001b[0;34m\u001b[0m\u001b[0;34m\u001b[0m\u001b[0;34m\u001b[0m\u001b[0m\n",
      "\u001b[0;31mNameError\u001b[0m: name 'fn2' is not defined"
     ]
    }
   ],
   "source": [
    "RW_rows = fn2[fn2.education_title.str.contains('Waal', regex= True, na=False)]\n",
    "not_RW_rows = fn2[~fn2.index.isin(RW_rows.index)]\n",
    "#not_RW_people = fn2[~fn2.education_title.str.contains('Waal', regex= True, na=False)]"
   ]
  },
  {
   "cell_type": "code",
   "execution_count": 12,
   "metadata": {},
   "outputs": [
    {
     "ename": "NameError",
     "evalue": "name 'RW_rows' is not defined",
     "output_type": "error",
     "traceback": [
      "\u001b[0;31m--------------------------------------------------------------------\u001b[0m",
      "\u001b[0;31mNameError\u001b[0m                          Traceback (most recent call last)",
      "\u001b[0;32m<ipython-input-12-568780fb94b7>\u001b[0m in \u001b[0;36m<module>\u001b[0;34m\u001b[0m\n\u001b[0;32m----> 1\u001b[0;31m \u001b[0mprint\u001b[0m\u001b[0;34m(\u001b[0m\u001b[0mRW_rows\u001b[0m\u001b[0;34m.\u001b[0m\u001b[0mshape\u001b[0m\u001b[0;34m[\u001b[0m\u001b[0;36m0\u001b[0m\u001b[0;34m]\u001b[0m\u001b[0;34m)\u001b[0m\u001b[0;34m\u001b[0m\u001b[0;34m\u001b[0m\u001b[0m\n\u001b[0m\u001b[1;32m      2\u001b[0m \u001b[0mprint\u001b[0m\u001b[0;34m(\u001b[0m\u001b[0mnot_RW_rows\u001b[0m\u001b[0;34m.\u001b[0m\u001b[0mshape\u001b[0m\u001b[0;34m[\u001b[0m\u001b[0;36m0\u001b[0m\u001b[0;34m]\u001b[0m\u001b[0;34m)\u001b[0m\u001b[0;34m\u001b[0m\u001b[0;34m\u001b[0m\u001b[0m\n",
      "\u001b[0;31mNameError\u001b[0m: name 'RW_rows' is not defined"
     ]
    }
   ],
   "source": [
    "print(RW_rows.shape[0])\n",
    "print(not_RW_rows.shape[0])"
   ]
  },
  {
   "cell_type": "markdown",
   "metadata": {},
   "source": [
    "## Get bachelors and masters students"
   ]
  },
  {
   "cell_type": "code",
   "execution_count": 5,
   "metadata": {},
   "outputs": [],
   "source": [
    "RW_bs = RW_rows[RW_rows.education_degree_title.str.contains('BS|Bachelor|B\\.s|B\\.S|Bs', regex= True, na=False)]\n",
    "RW_ms = RW_rows[RW_rows.education_degree_title.str.contains('MS|Master|M\\.s|M\\.S|Ms', regex= True, na=False)]\n",
    "all_bs = fn2[fn2.education_degree_title.str.contains('BS|Bachelor|B\\.s|B\\.S|Bs', regex= True, na=False)]\n",
    "all_ms = fn2[fn2.education_degree_title.str.contains('MS|Master|M\\.s|M\\.S|Ms', regex= True, na=False)]\n",
    "not_RW_ms = all_ms[~all_ms.index.isin(RW_ms.index)]\n",
    "not_RW_ms_p = all_ms[~all_ms.index.isin(RW_ms.index) & ~all_ms.profile_id.isin(RW_ms.profile_id)]"
   ]
  },
  {
   "cell_type": "code",
   "execution_count": 6,
   "metadata": {},
   "outputs": [
    {
     "name": "stdout",
     "output_type": "stream",
     "text": [
      "(2454, 12)\n",
      "(1325, 12)\n",
      "(2224, 12)\n",
      "(1379, 12)\n",
      "(766, 12)\n",
      "(613, 12)\n"
     ]
    }
   ],
   "source": [
    "print(RW_rows.shape)\n",
    "print(RW_bs.shape)\n",
    "print(all_bs.shape)\n",
    "print(all_ms.shape)\n",
    "print(RW_ms.shape)\n",
    "print(not_RW_ms.shape)"
   ]
  },
  {
   "cell_type": "markdown",
   "metadata": {},
   "source": [
    "# How many people go for the master at Rhein-Waal after bachelors in Rhein-Waal"
   ]
  },
  {
   "cell_type": "code",
   "execution_count": 7,
   "metadata": {
    "scrolled": true
   },
   "outputs": [],
   "source": [
    "bs_graduates = RW_bs[RW_bs.education_end_date <= 2019]\n",
    "bs_graduates = bs_graduates[bs_graduates['education_end_date'] - bs_graduates['education_start_date'] > 2]"
   ]
  },
  {
   "cell_type": "code",
   "execution_count": 8,
   "metadata": {},
   "outputs": [
    {
     "data": {
      "text/plain": [
       "(1116, 12)"
      ]
     },
     "execution_count": 8,
     "metadata": {},
     "output_type": "execute_result"
    }
   ],
   "source": [
    "bs_graduates.shape"
   ]
  },
  {
   "cell_type": "code",
   "execution_count": 9,
   "metadata": {},
   "outputs": [
    {
     "name": "stdout",
     "output_type": "stream",
     "text": [
      "Amount of people:  103\n"
     ]
    }
   ],
   "source": [
    "bs_to_ms = np.intersect1d(bs_graduates.profile_id, RW_ms.profile_id).size\n",
    "print(\"Amount of people: \",bs_to_ms)"
   ]
  },
  {
   "cell_type": "code",
   "execution_count": 10,
   "metadata": {},
   "outputs": [],
   "source": [
    "same_uni = bs_to_ms / np.unique(bs_graduates.profile_id).shape[0]"
   ]
  },
  {
   "cell_type": "code",
   "execution_count": 11,
   "metadata": {},
   "outputs": [
    {
     "data": {
      "image/png": "[encoded data removed]",
      "text/plain": [
       "<Figure size 432x288 with 1 Axes>"
      ]
     },
     "metadata": {},
     "output_type": "display_data"
    }
   ],
   "source": [
    "s0 = [same_uni,1 - same_uni]\n",
    "l0 = ['Rhein-Waal University','Other']\n",
    "fig, ax = plt.subplots()\n",
    "ax.set_title('Masters degree after Rhein-Waal university graduation ')\n",
    "ax.pie(s0, labels=l0, autopct='%1.2f%%', shadow=True)\n",
    "plt.show()"
   ]
  },
  {
   "cell_type": "code",
   "execution_count": 12,
   "metadata": {},
   "outputs": [],
   "source": [
    "bs_to_ms_not_RW = np.intersect1d(bs_graduates.profile_id,not_RW_ms_p.profile_id).size"
   ]
  },
  {
   "cell_type": "code",
   "execution_count": 13,
   "metadata": {},
   "outputs": [
    {
     "data": {
      "image/png": "[encoded data removed]",
      "text/plain": [
       "<Figure size 432x288 with 1 Axes>"
      ]
     },
     "metadata": {},
     "output_type": "display_data"
    }
   ],
   "source": [
    "nt = bs_to_ms_not_RW / (bs_to_ms_not_RW + bs_to_ms)\n",
    "s1 = [nt,1 - nt]\n",
    "l1 = ['Other universities','Rhein-Waal']\n",
    "fig, ax = plt.subplots()\n",
    "ax.set_title('Masters degree after b Rhein-Waal university bachelors graduation ')\n",
    "ax.pie(s1, labels=l1, autopct='%1.2f%%', shadow=True)\n",
    "plt.show()"
   ]
  },
  {
   "cell_type": "code",
   "execution_count": 14,
   "metadata": {},
   "outputs": [
    {
     "data": {
      "text/plain": [
       "True"
      ]
     },
     "execution_count": 14,
     "metadata": {},
     "output_type": "execute_result"
    }
   ],
   "source": [
    "#Check\n",
    "np.unique(bs_graduates[bs_graduates.profile_id.isin(all_ms.profile_id)].profile_id).shape[0] == bs_to_ms_not_RW + bs_to_ms"
   ]
  },
  {
   "cell_type": "code",
   "execution_count": 15,
   "metadata": {},
   "outputs": [],
   "source": [
    "no_ms_after_bs = np.unique(bs_graduates[~bs_graduates.profile_id.isin(all_ms.profile_id)].profile_id).shape[0]"
   ]
  },
  {
   "cell_type": "code",
   "execution_count": 16,
   "metadata": {},
   "outputs": [
    {
     "data": {
      "text/plain": [
       "True"
      ]
     },
     "execution_count": 16,
     "metadata": {},
     "output_type": "execute_result"
    }
   ],
   "source": [
    "bs_to_ms_not_RW + bs_to_ms + no_ms_after_bs == np.unique(bs_graduates.profile_id).shape[0]"
   ]
  },
  {
   "cell_type": "code",
   "execution_count": 17,
   "metadata": {
    "scrolled": false
   },
   "outputs": [
    {
     "data": {
      "image/png": "[encoded data removed]",
      "text/plain": [
       "<Figure size 432x288 with 1 Axes>"
      ]
     },
     "metadata": {},
     "output_type": "display_data"
    }
   ],
   "source": [
    "g1 = bs_to_ms_not_RW / np.unique(bs_graduates.profile_id).shape[0]\n",
    "g2 = bs_to_ms / np.unique(bs_graduates.profile_id).shape[0]\n",
    "g3 = no_ms_after_bs / np.unique(bs_graduates.profile_id).shape[0]\n",
    "s1 = [g1,g2,g3]\n",
    "l1 = ['Other universities','Rhein-Waal','Dont pursue masters after graduation']\n",
    "fig, ax = plt.subplots()\n",
    "ax.set_title('Willingness to take masters degree after Rhein-Waal university bachelors graduation ')\n",
    "ax.pie(s1, labels=l1, autopct='%1.2f%%', shadow=True)\n",
    "plt.show()"
   ]
  },
  {
   "cell_type": "markdown",
   "metadata": {},
   "source": [
    "# Descriptive statistics"
   ]
  },
  {
   "cell_type": "code",
   "execution_count": 18,
   "metadata": {},
   "outputs": [],
   "source": [
    "def remove_space(x):\n",
    "    if x[0] == ' ':\n",
    "        return x[1:]\n",
    "    else:\n",
    "        return x"
   ]
  },
  {
   "cell_type": "code",
   "execution_count": 19,
   "metadata": {},
   "outputs": [],
   "source": [
    "location = np.array([remove_space(x) for x in fn1['location_country'].values])\n",
    "unique, counts = np.unique(location, return_counts=True)"
   ]
  },
  {
   "cell_type": "code",
   "execution_count": 20,
   "metadata": {},
   "outputs": [],
   "source": [
    "fn1['location_country'] = location"
   ]
  },
  {
   "cell_type": "code",
   "execution_count": 21,
   "metadata": {},
   "outputs": [
    {
     "name": "stdout",
     "output_type": "stream",
     "text": [
      "[   3    6    1    1   11    6    1    4    5    1    1    1    5    4\n",
      "    2    1    1    1    1    2    3    2    2    2    6 1902    1    1\n",
      "    1    1    1    1   16    3    1    6    5    3    3    1    1    1\n",
      "    1    4    1    1    2    1    5   38    1    1    2    1    1    1\n",
      "    1    5    1    6    1    1    3   19    7    4    1    2    7    2\n",
      "   29    1    9    1]\n"
     ]
    },
    {
     "data": {
      "text/plain": [
       "1902"
      ]
     },
     "execution_count": 21,
     "metadata": {},
     "output_type": "execute_result"
    }
   ],
   "source": [
    "print(counts)\n",
    "np.max(counts)"
   ]
  },
  {
   "cell_type": "code",
   "execution_count": 22,
   "metadata": {},
   "outputs": [],
   "source": [
    "DE_per = np.max(counts) / sum(counts)"
   ]
  },
  {
   "cell_type": "code",
   "execution_count": 23,
   "metadata": {},
   "outputs": [
    {
     "data": {
      "image/png": "[encoded data removed]",
      "text/plain": [
       "<Figure size 432x288 with 1 Axes>"
      ]
     },
     "metadata": {},
     "output_type": "display_data"
    }
   ],
   "source": [
    "s0 = [DE_per,1 - DE_per]\n",
    "l0 = ['Germany','Other counties']\n",
    "fig, ax = plt.subplots()\n",
    "ax.set_title('Current place of living')\n",
    "ax.pie(s0, labels=l0, autopct='%1.2f%%', shadow=True)\n",
    "plt.show()"
   ]
  },
  {
   "cell_type": "code",
   "execution_count": 24,
   "metadata": {},
   "outputs": [],
   "source": [
    "not_germany = fn1[fn1.location_country != 'Germany']"
   ]
  },
  {
   "cell_type": "code",
   "execution_count": 25,
   "metadata": {},
   "outputs": [],
   "source": [
    "bs_ng = np.unique(bs_graduates[bs_graduates.profile_id.isin(not_germany.profile_id)].profile_id).shape[0]"
   ]
  },
  {
   "cell_type": "code",
   "execution_count": 26,
   "metadata": {},
   "outputs": [
    {
     "data": {
      "image/png": "[encoded data removed]",
      "text/plain": [
       "<Figure size 432x288 with 1 Axes>"
      ]
     },
     "metadata": {},
     "output_type": "display_data"
    }
   ],
   "source": [
    "g1 = bs_ng / np.unique(bs_graduates.profile_id).shape[0]\n",
    "s0 = [g1,1 - g1]\n",
    "l0 = ['Left the country','Stayed in Germany']\n",
    "fig, ax = plt.subplots()\n",
    "ax.set_title('Current place of Rhein-Waal bachelors living')\n",
    "ax.pie(s0, labels=l0, autopct='%1.2f%%', shadow=True)\n",
    "plt.show()"
   ]
  },
  {
   "cell_type": "code",
   "execution_count": 27,
   "metadata": {},
   "outputs": [],
   "source": [
    "years_to_finish = np.unique(bs_graduates['education_end_date'] - bs_graduates['education_start_date'],return_counts=True)"
   ]
  },
  {
   "cell_type": "code",
   "execution_count": 28,
   "metadata": {},
   "outputs": [
    {
     "data": {
      "image/png": "[encoded data removed]",
      "text/plain": [
       "<Figure size 720x360 with 1 Axes>"
      ]
     },
     "metadata": {
      "needs_background": "light"
     },
     "output_type": "display_data"
    }
   ],
   "source": [
    "from pylab import rcParams\n",
    "rcParams['figure.figsize'] = 10, 5\n",
    "fig, ax = plt.subplots()\n",
    "\n",
    "ax.bar(years_to_finish[0], years_to_finish[1], align='center') \n",
    "ax.set_xlabel('Years to finish')\n",
    "ax.set_ylabel('Amount of people')\n",
    "ax.set_title('How many years graduates spent to finish their Bachelors at Rhein-Waal University')\n",
    "\n",
    "plt.show()"
   ]
  },
  {
   "cell_type": "markdown",
   "metadata": {},
   "source": [
    "# Working during the education"
   ]
  },
  {
   "cell_type": "code",
   "execution_count": 29,
   "metadata": {},
   "outputs": [],
   "source": [
    "is_during_bs = []\n",
    "for row in bs_graduates.index:\n",
    "    flag = False\n",
    "    exps = fn3[fn3.profile_id == bs_graduates.loc[row].profile_id]\n",
    "    if len(exps):\n",
    "        for exp in exps.index:\n",
    "            flag = flag or bs_graduates.loc[row].education_start_date <= exps.loc[exp].experience_start_date_year < bs_graduates.loc[row].education_end_date\n",
    "    else:\n",
    "        flag = False\n",
    "    is_during_bs.append(flag)\n",
    "    "
   ]
  },
  {
   "cell_type": "code",
   "execution_count": 30,
   "metadata": {},
   "outputs": [
    {
     "data": {
      "image/png": "[encoded data removed]",
      "text/plain": [
       "<Figure size 720x360 with 1 Axes>"
      ]
     },
     "metadata": {},
     "output_type": "display_data"
    }
   ],
   "source": [
    "g1 = np.unique(np.array(is_during_bs),return_counts=True)[1][1] / len(is_during_bs)\n",
    "s0 = [g1,1 - g1]\n",
    "l0 = ['Worked during the study','Didnt worked']\n",
    "fig, ax = plt.subplots()\n",
    "ax.set_title('Percentage of people who worked somwhere during the bachelors study at Rhein-Waal University')\n",
    "ax.pie(s0, labels=l0, autopct='%1.2f%%', shadow=True)\n",
    "plt.show()"
   ]
  },
  {
   "cell_type": "code",
   "execution_count": 47,
   "metadata": {},
   "outputs": [
    {
     "data": {
      "text/html": [
       "<div>\n",
       "<style scoped>\n",
       "    .dataframe tbody tr th:only-of-type {\n",
       "        vertical-align: middle;\n",
       "    }\n",
       "\n",
       "    .dataframe tbody tr th {\n",
       "        vertical-align: top;\n",
       "    }\n",
       "\n",
       "    .dataframe thead th {\n",
       "        text-align: right;\n",
       "    }\n",
       "</style>\n",
       "<table border=\"1\" class=\"dataframe\">\n",
       "  <thead>\n",
       "    <tr style=\"text-align: right;\">\n",
       "      <th></th>\n",
       "      <th>education_id</th>\n",
       "      <th>profile_id</th>\n",
       "      <th>education_title_uncleaned</th>\n",
       "      <th>education_title</th>\n",
       "      <th>education_degree_title_uncleaned</th>\n",
       "      <th>education_degree_title</th>\n",
       "      <th>education_field_of_study_uncleaned</th>\n",
       "      <th>education_field_of_study</th>\n",
       "      <th>education_start_date</th>\n",
       "      <th>education_end_date</th>\n",
       "      <th>IsEducationEndDateInLastYear</th>\n",
       "      <th>education_duration</th>\n",
       "    </tr>\n",
       "  </thead>\n",
       "  <tbody>\n",
       "    <tr>\n",
       "      <td>0</td>\n",
       "      <td>3fc6754c-470c-4a64-b514-9519bc5c848c</td>\n",
       "      <td>cb9e4f9c-64fd-4a3e-a54b-e3bce9978ee6</td>\n",
       "      <td>Rhine-Waal University</td>\n",
       "      <td>Rhine-Waal University of Applied Sciences</td>\n",
       "      <td>NaN</td>\n",
       "      <td>NaN</td>\n",
       "      <td>NaN</td>\n",
       "      <td>Other</td>\n",
       "      <td>NaN</td>\n",
       "      <td>NaN</td>\n",
       "      <td>No</td>\n",
       "      <td>NaN</td>\n",
       "    </tr>\n",
       "    <tr>\n",
       "      <td>1</td>\n",
       "      <td>f4ff0a86-afd0-4dc8-9254-145064b653ee</td>\n",
       "      <td>48cd97bc-43c6-4d56-b8b8-c058568201c9</td>\n",
       "      <td>Aix-Marseille University</td>\n",
       "      <td>Aix-Marseille University</td>\n",
       "      <td>Doctor of Philosophy - PhD Materials Science, ...</td>\n",
       "      <td>PhD</td>\n",
       "      <td>Materials Science, Hybrid technology, Nanomate...</td>\n",
       "      <td>Other</td>\n",
       "      <td>2017.0</td>\n",
       "      <td>NaN</td>\n",
       "      <td>No</td>\n",
       "      <td>NaN</td>\n",
       "    </tr>\n",
       "    <tr>\n",
       "      <td>2</td>\n",
       "      <td>f4ff0a86-afd0-4dc8-9254-145064b653ee</td>\n",
       "      <td>48cd97bc-43c6-4d56-b8b8-c058568201c9</td>\n",
       "      <td>Rhine-Waal University</td>\n",
       "      <td>Rhine-Waal University of Applied Sciences</td>\n",
       "      <td>Master's Degree Bionics, Polymer Materials, El...</td>\n",
       "      <td>Master Misc.</td>\n",
       "      <td>Bionics, Polymer Materials, Electrospinning, H...</td>\n",
       "      <td>Bionics</td>\n",
       "      <td>2013.0</td>\n",
       "      <td>2016.0</td>\n",
       "      <td>Yes</td>\n",
       "      <td>NaN</td>\n",
       "    </tr>\n",
       "    <tr>\n",
       "      <td>3</td>\n",
       "      <td>f4ff0a86-afd0-4dc8-9254-145064b653ee</td>\n",
       "      <td>48cd97bc-43c6-4d56-b8b8-c058568201c9</td>\n",
       "      <td>Amity University Delhi</td>\n",
       "      <td>Amity University Delhi</td>\n",
       "      <td>Engineer's Degree Biotechnology</td>\n",
       "      <td>Engineer's Degree Biotechnology</td>\n",
       "      <td>Biotechnology</td>\n",
       "      <td>Other</td>\n",
       "      <td>2008.0</td>\n",
       "      <td>2012.0</td>\n",
       "      <td>Yes</td>\n",
       "      <td>NaN</td>\n",
       "    </tr>\n",
       "    <tr>\n",
       "      <td>4</td>\n",
       "      <td>f21441c7-8db4-4b4e-9498-df2fe66b5b07</td>\n",
       "      <td>4aa4e7ec-75f7-4cd1-bdc5-aa795f055436</td>\n",
       "      <td>Rhine-Waal University</td>\n",
       "      <td>Rhine-Waal University of Applied Sciences</td>\n",
       "      <td>Bachelor of Arts - BA International Relations 2</td>\n",
       "      <td>Bachelor of Arts</td>\n",
       "      <td>International Relations</td>\n",
       "      <td>International Relations</td>\n",
       "      <td>2017.0</td>\n",
       "      <td>2021.0</td>\n",
       "      <td>No</td>\n",
       "      <td>NaN</td>\n",
       "    </tr>\n",
       "  </tbody>\n",
       "</table>\n",
       "</div>"
      ],
      "text/plain": [
       "                           education_id                            profile_id  \\\n",
       "0  3fc6754c-470c-4a64-b514-9519bc5c848c  cb9e4f9c-64fd-4a3e-a54b-e3bce9978ee6   \n",
       "1  f4ff0a86-afd0-4dc8-9254-145064b653ee  48cd97bc-43c6-4d56-b8b8-c058568201c9   \n",
       "2  f4ff0a86-afd0-4dc8-9254-145064b653ee  48cd97bc-43c6-4d56-b8b8-c058568201c9   \n",
       "3  f4ff0a86-afd0-4dc8-9254-145064b653ee  48cd97bc-43c6-4d56-b8b8-c058568201c9   \n",
       "4  f21441c7-8db4-4b4e-9498-df2fe66b5b07  4aa4e7ec-75f7-4cd1-bdc5-aa795f055436   \n",
       "\n",
       "  education_title_uncleaned                            education_title  \\\n",
       "0     Rhine-Waal University  Rhine-Waal University of Applied Sciences   \n",
       "1  Aix-Marseille University                   Aix-Marseille University   \n",
       "2     Rhine-Waal University  Rhine-Waal University of Applied Sciences   \n",
       "3    Amity University Delhi                     Amity University Delhi   \n",
       "4     Rhine-Waal University  Rhine-Waal University of Applied Sciences   \n",
       "\n",
       "                    education_degree_title_uncleaned  \\\n",
       "0                                                NaN   \n",
       "1  Doctor of Philosophy - PhD Materials Science, ...   \n",
       "2  Master's Degree Bionics, Polymer Materials, El...   \n",
       "3                    Engineer's Degree Biotechnology   \n",
       "4    Bachelor of Arts - BA International Relations 2   \n",
       "\n",
       "            education_degree_title  \\\n",
       "0                              NaN   \n",
       "1                              PhD   \n",
       "2                     Master Misc.   \n",
       "3  Engineer's Degree Biotechnology   \n",
       "4                 Bachelor of Arts   \n",
       "\n",
       "                  education_field_of_study_uncleaned education_field_of_study  \\\n",
       "0                                                NaN                    Other   \n",
       "1  Materials Science, Hybrid technology, Nanomate...                    Other   \n",
       "2  Bionics, Polymer Materials, Electrospinning, H...                  Bionics   \n",
       "3                                      Biotechnology                    Other   \n",
       "4                            International Relations  International Relations   \n",
       "\n",
       "   education_start_date  education_end_date IsEducationEndDateInLastYear  \\\n",
       "0                   NaN                 NaN                           No   \n",
       "1                2017.0                 NaN                           No   \n",
       "2                2013.0              2016.0                          Yes   \n",
       "3                2008.0              2012.0                          Yes   \n",
       "4                2017.0              2021.0                           No   \n",
       "\n",
       "   education_duration  \n",
       "0                 NaN  \n",
       "1                 NaN  \n",
       "2                 NaN  \n",
       "3                 NaN  \n",
       "4                 NaN  "
      ]
     },
     "execution_count": 47,
     "metadata": {},
     "output_type": "execute_result"
    }
   ],
   "source": [
    "fn2.head()"
   ]
  },
  {
   "cell_type": "code",
   "execution_count": 43,
   "metadata": {},
   "outputs": [],
   "source": [
    "test = np.unique(fn2['education_degree_title'].dropna(),return_counts=True)"
   ]
  },
  {
   "cell_type": "code",
   "execution_count": 46,
   "metadata": {},
   "outputs": [
    {
     "data": {
      "text/plain": [
       "(array(['(UK) Logisitics & Transporration', '+2 Management',\n",
       "        '+2 Maths, Computer', ..., 'Магистр Психология',\n",
       "        'Среднее (полное) общее образование 5',\n",
       "        '理科学士 Environment and energy'], dtype=object),\n",
       " array([1, 1, 1, ..., 1, 1, 1], dtype=int64))"
      ]
     },
     "execution_count": 46,
     "metadata": {},
     "output_type": "execute_result"
    }
   ],
   "source": [
    "test"
   ]
  },
  {
   "cell_type": "code",
   "execution_count": 45,
   "metadata": {},
   "outputs": [
    {
     "data": {
      "text/plain": [
       "(array([   1,    2,    3,    4,    5,    6,    7,    8,   11,   13,   18,\n",
       "          21,   22,   29,   48,   74,   91,  303,  343,  419,  945, 1294],\n",
       "       dtype=int64),\n",
       " array([1353,   59,   14,   10,    9,    1,    2,    1,    1,    1,    1,\n",
       "           1,    1,    1,    1,    1,    1,    1,    1,    1,    1,    1],\n",
       "       dtype=int64))"
      ]
     },
     "execution_count": 45,
     "metadata": {},
     "output_type": "execute_result"
    }
   ],
   "source": [
    "np.unique(test[1],return_counts=True)"
   ]
  },
  {
   "cell_type": "code",
   "execution_count": 137,
   "metadata": {},
   "outputs": [],
   "source": [
    "group1= all_bs[~all_bs.profile_id.isin(RW_bs.profile_id)]\n",
    "group2 = RW_bs"
   ]
  },
  {
   "cell_type": "code",
   "execution_count": 138,
   "metadata": {},
   "outputs": [],
   "source": [
    "group1_c = np.array([fn1[fn1.profile_id == x].connections.values for x in group1.profile_id])\n",
    "group2_c = np.array([fn1[fn1.profile_id == x].connections.values for x in group2.profile_id])"
   ]
  },
  {
   "cell_type": "code",
   "execution_count": 139,
   "metadata": {},
   "outputs": [],
   "source": [
    "cn1 = []\n",
    "cn2 = []\n",
    "\n",
    "for x in group1_c:\n",
    "    try:\n",
    "        cn1.append(int(x[0]))\n",
    "    except:\n",
    "        if x.size > 0:\n",
    "            if x[0] == '500+':\n",
    "                cn1.append(500)\n",
    "            else:\n",
    "                pass\n",
    "\n",
    "            \n",
    "        "
   ]
  },
  {
   "cell_type": "code",
   "execution_count": 140,
   "metadata": {},
   "outputs": [],
   "source": [
    "for x in group2_c:\n",
    "    try:\n",
    "        cn2.append(int(x[0]))\n",
    "    except:\n",
    "        if x.size > 0:\n",
    "            if x[0] == '500+':\n",
    "                cn1.append(500)\n",
    "            else:\n",
    "                pass"
   ]
  },
  {
   "cell_type": "code",
   "execution_count": 143,
   "metadata": {},
   "outputs": [
    {
     "name": "stdout",
     "output_type": "stream",
     "text": [
      "Rhein-Waal bachelors graduates\n",
      "Mean: 270.85557299843015\n",
      "Median: 243.0\n",
      "Std: 179.8283356933363\n"
     ]
    }
   ],
   "source": [
    "print('Rhein-Waal bachelors graduates')\n",
    "print('Mean:',np.mean(cn1))\n",
    "print('Median:',np.median(cn1))\n",
    "print('Std:',np.std(cn1))"
   ]
  },
  {
   "cell_type": "code",
   "execution_count": 144,
   "metadata": {},
   "outputs": [
    {
     "name": "stdout",
     "output_type": "stream",
     "text": [
      "Other university bachelors graduates\n",
      "Mean: 131.47948951686416\n",
      "Median: 101.0\n",
      "Std: 109.48854241124188\n"
     ]
    }
   ],
   "source": [
    "print('Other university bachelors graduates')\n",
    "print('Mean:',np.mean(cn2))\n",
    "print('Median:',np.median(cn2))\n",
    "print('Std:',np.std(cn2))"
   ]
  },
  {
   "cell_type": "code",
   "execution_count": null,
   "metadata": {},
   "outputs": [],
   "source": []
  }
 ],
 "metadata": {
  "kernelspec": {
   "display_name": "Python 3",
   "language": "python",
   "name": "python3"
  },
  "language_info": {
   "codemirror_mode": {
    "name": "ipython",
    "version": 3
   },
   "file_extension": ".py",
   "mimetype": "text/x-python",
   "name": "python",
   "nbconvert_exporter": "python",
   "pygments_lexer": "ipython3",
   "version": "3.6.9"
  }
 },
 "nbformat": 4,
 "nbformat_minor": 2
}
